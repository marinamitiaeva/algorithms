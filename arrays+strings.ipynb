{
 "cells": [
  {
   "cell_type": "markdown",
   "metadata": {},
   "source": [
    "### Sliding window"
   ]
  },
  {
   "cell_type": "markdown",
   "metadata": {},
   "source": [
    "Find a contiguous subarray whose length is equal to k that has the maximum average value and return this value. Any answer with a calculation error less than 10-5 will be accepted."
   ]
  },
  {
   "cell_type": "code",
   "execution_count": 10,
   "metadata": {},
   "outputs": [],
   "source": [
    "class Solution(object):\n",
    "    def findMaxAverage(self, nums, k):\n",
    "        \"\"\"\n",
    "        :type nums: List[int]\n",
    "        :type k: int\n",
    "        :rtype: float\n",
    "        \"\"\"\n",
    "        # calculate the sum of the first window of size k\n",
    "        curr_sum = sum(nums[:k])\n",
    "        # initialize max_sum to the sum of the first window\n",
    "        max_sum = curr_sum\n",
    "        \n",
    "        # in the range starting from k-th element\n",
    "        for i in range(k, len(nums)):\n",
    "            # add new element to the calculated sum and exclude first element in nums to maintain the length criteria\n",
    "            curr_sum += nums[i] - nums[i - k]\n",
    "            # update max_sum if the new window sum is greater\n",
    "            max_sum = max(max_sum, curr_sum)\n",
    "        \n",
    "        # return the maximum average by dividing the max sum by k\n",
    "        return max_sum / float(k)"
   ]
  },
  {
   "cell_type": "code",
   "execution_count": 11,
   "metadata": {},
   "outputs": [
    {
     "name": "stdout",
     "output_type": "stream",
     "text": [
      "12.75\n"
     ]
    }
   ],
   "source": [
    "nums = [1,12,-5,-6,50,3]\n",
    "k = 4\n",
    "solution = Solution()\n",
    "print(solution.findMaxAverage(nums, k))"
   ]
  },
  {
   "cell_type": "markdown",
   "metadata": {},
   "source": [
    "Given a binary array nums and an integer k, return the maximum number of consecutive 1's in the array if you can flip at most k 0's."
   ]
  },
  {
   "cell_type": "code",
   "execution_count": 11,
   "metadata": {},
   "outputs": [],
   "source": [
    "class Solution(object):\n",
    "    def longestOnes(self, nums, k):\n",
    "        \"\"\"\n",
    "        :type nums: List[int]\n",
    "        :type k: int\n",
    "        :rtype: int\n",
    "        \"\"\"\n",
    "        left = max_len = zero_count = 0  # Left boundary of the window, the maximum number of consecutive 1's, the number of zeros in the current window\n",
    "\n",
    "        # Move the right pointer over the array\n",
    "        for right in range(len(nums)):\n",
    "            # If we encounter a zero, increase the zero count\n",
    "            if nums[right] == 0:\n",
    "                zero_count += 1\n",
    "            \n",
    "            # If the zero count exceeds k, shrink the window from the left\n",
    "            while zero_count > k:\n",
    "                if nums[left] == 0:\n",
    "                    zero_count -= 1\n",
    "                left += 1  # Move the left pointer to shrink the window\n",
    "            \n",
    "            # Calculate the current window length (right - left + 1)\n",
    "            # Update max_len if the current window is larger\n",
    "            max_len = max(max_len, right - left + 1)\n",
    "        \n",
    "        return max_len"
   ]
  },
  {
   "cell_type": "code",
   "execution_count": 12,
   "metadata": {},
   "outputs": [
    {
     "name": "stdout",
     "output_type": "stream",
     "text": [
      "6\n"
     ]
    }
   ],
   "source": [
    "nums = [1,1,1,0,0,0,1,1,1,1,0]\n",
    "k = 2\n",
    "solution = Solution()\n",
    "print(solution.longestOnes(nums, k))"
   ]
  },
  {
   "cell_type": "markdown",
   "metadata": {},
   "source": [
    "### Prefix sum"
   ]
  },
  {
   "cell_type": "markdown",
   "metadata": {},
   "source": [
    "A prefix array refers to the sum of elements from the beginning of an array up to a certain point.\n",
    "A prefix sum array is an array where each element at index i is the sum of all elements in the original array from the start (index 0) up to i.\n",
    "\n",
    "nums = [1, 2, 3, 4]\n",
    "\n",
    "prefix[0] = nums[0] = 1\n",
    "\n",
    "prefix[1] = nums[0] + nums[1] = 1 + 2 = 3\n",
    "\n",
    "prefix[2] = nums[0] + nums[1] + nums[2] = 1 + 2 + 3 = 6\n",
    "\n",
    "prefix[3] = nums[0] + nums[1] + nums[2] + nums[3] = 1 + 2 + 3 + 4 = 10\n",
    "\n",
    "prefix = [1, 3, 6, 10]\n",
    "\n",
    "\n",
    "Subarray sum\n",
    "\n",
    "prefix[j] - prefix[i-1] (if i > 0), or\n",
    "\n",
    "prefix[j] - prefix[i] + nums[i] if you want to avoid handling the case when i = 0"
   ]
  },
  {
   "cell_type": "markdown",
   "metadata": {},
   "source": [
    "Given an integer array nums, an array queries where queries[i] = [x, y] and an integer limit, return a boolean array that represents the answer to each query. A query is true if the sum of the subarray from x to y is less than limit, or false otherwise."
   ]
  },
  {
   "cell_type": "code",
   "execution_count": 22,
   "metadata": {},
   "outputs": [],
   "source": [
    "nums = [1, 6, 3, 2, 7, 2]\n",
    "queries = [[0, 3], [2, 5], [2, 4]]\n",
    "limit = 13"
   ]
  },
  {
   "cell_type": "code",
   "execution_count": 39,
   "metadata": {},
   "outputs": [],
   "source": [
    "def ansqueries(nums, queries, limit):\n",
    "    # Step 1: create a prefix list where the first element equals to first element in nums list\n",
    "    prefix = [0] * len(nums)\n",
    "    prefix[0] = nums[0]\n",
    "\n",
    "    # Step 2: update each postition of prefix list so that we add to accumulated sum a new i-th value form the list\n",
    "    for i in range(1, len(nums)):\n",
    "        prefix[i] = prefix[i-1] + nums[i]\n",
    "\n",
    "    # Step 3: answer each query using the prefix sum\n",
    "    results = []\n",
    "    for query in queries:\n",
    "        x, y = query\n",
    "        if x == 0:\n",
    "            subarray_sum = prefix[y]\n",
    "        else:\n",
    "            subarray_sum = prefix[y] - prefix[x-1]\n",
    "\n",
    "            # Step 4: compare the subarray sum with the limit \n",
    "        results.append(subarray_sum < limit)\n",
    "\n",
    "    return results"
   ]
  },
  {
   "cell_type": "code",
   "execution_count": 40,
   "metadata": {},
   "outputs": [
    {
     "data": {
      "text/plain": [
       "[True, False, True]"
      ]
     },
     "execution_count": 40,
     "metadata": {},
     "output_type": "execute_result"
    }
   ],
   "source": [
    "ansqueries(nums, queries, limit)"
   ]
  },
  {
   "cell_type": "markdown",
   "metadata": {},
   "source": [
    "Given an integer array nums, find the number of ways to split the array into two parts so that the first section has a sum greater than or equal to the sum of the second section. The second section should have at least one number"
   ]
  },
  {
   "cell_type": "code",
   "execution_count": null,
   "metadata": {},
   "outputs": [],
   "source": []
  }
 ],
 "metadata": {
  "kernelspec": {
   "display_name": "Python 3",
   "language": "python",
   "name": "python3"
  },
  "language_info": {
   "codemirror_mode": {
    "name": "ipython",
    "version": 3
   },
   "file_extension": ".py",
   "mimetype": "text/x-python",
   "name": "python",
   "nbconvert_exporter": "python",
   "pygments_lexer": "ipython3",
   "version": "3.12.1"
  }
 },
 "nbformat": 4,
 "nbformat_minor": 2
}
